{
 "cells": [
  {
   "cell_type": "raw",
   "metadata": {},
   "source": [
    "!python --version"
   ]
  },
  {
   "cell_type": "markdown",
   "metadata": {},
   "source": [
    "# Starbucks Capstone Challenge\n",
    "\n",
    "### Introduction\n",
    "\n",
    "This data set contains simulated data that mimics customer behavior on the Starbucks rewards mobile app. Once every few days, Starbucks sends out an offer to users of the mobile app. An offer can be merely an advertisement for a drink or an actual offer such as a discount or BOGO (buy one get one free). Some users might not receive any offer during certain weeks. \n",
    "\n",
    "Not all users receive the same offer, and that is the challenge to solve with this data set.\n",
    "\n",
    "Your task is to combine transaction, demographic and offer data to determine **which demographic groups respond best to which offer type**. This data set is a simplified version of the real Starbucks app because the underlying simulator only has one product whereas Starbucks actually sells dozens of products.\n",
    "\n",
    "Every offer has a validity period before the offer expires. As an example, a BOGO offer might be valid for only 5 days. You'll see in the data set that informational offers have a validity period even though these ads are merely providing information about a product; for example, if an informational offer has 7 days of validity, you can assume the customer is feeling the influence of the offer for 7 days after receiving the advertisement.\n",
    "\n",
    "You'll be given transactional data showing user purchases made on the app including the timestamp of purchase and the amount of money spent on a purchase. This transactional data also has a record for each offer that a user receives as well as a record for when a user actually views the offer. There are also records for when a user completes an offer. \n",
    "\n",
    "Keep in mind as well that someone using the app might make a purchase through the app without having received an offer or seen an offer.\n",
    "\n",
    "### Example\n",
    "\n",
    "To give an example, a user could receive a discount offer buy 10 dollars get 2 off on Monday. The offer is valid for 10 days from receipt. If the customer accumulates at least 10 dollars in purchases during the validity period, the customer completes the offer.\n",
    "\n",
    "However, there are a few things to watch out for in this data set. Customers do not opt into the offers that they receive; in other words, a user can receive an offer, never actually view the offer, and still complete the offer. For example, a user might receive the \"buy 10 dollars get 2 dollars off offer\", but the user never opens the offer during the 10 day validity period. The customer spends 15 dollars during those ten days. There will be an offer completion record in the data set; however, the customer was not influenced by the offer because the customer never viewed the offer.\n",
    "\n",
    "### Cleaning\n",
    "\n",
    "This makes data cleaning especially important and tricky.\n",
    "\n",
    "You'll also want to take into account that some demographic groups will make purchases even if they don't receive an offer. From a business perspective, if a customer is going to make a 10 dollar purchase without an offer anyway, you wouldn't want to send a buy 10 dollars get 2 dollars off offer. You'll want to try to assess what a certain demographic group will buy when not receiving any offers.\n",
    "\n",
    "### Final Advice\n",
    "\n",
    "Because this is a capstone project, you are free to analyze the data any way you see fit. For example, you could build a machine learning model that predicts how much someone will spend based on demographics and offer type. Or you could build a model that predicts whether or not someone will respond to an offer. Or, you don't need to build a machine learning model at all. You could develop a set of heuristics that determine what offer you should send to each customer (i.e., 75 percent of women customers who were 35 years old responded to offer A vs 40 percent from the same demographic to offer B, so send offer A)."
   ]
  },
  {
   "cell_type": "markdown",
   "metadata": {},
   "source": [
    "# Data Sets\n",
    "\n",
    "The data is contained in three files:\n",
    "\n",
    "* portfolio.json - containing offer ids and meta data about each offer (duration, type, etc.)\n",
    "* profile.json - demographic data for each customer\n",
    "* transcript.json - records for transactions, offers received, offers viewed, and offers completed\n",
    "\n",
    "Here is the schema and explanation of each variable in the files:\n",
    "\n",
    "**portfolio.json**\n",
    "* id (string) - offer id\n",
    "* offer_type (string) - type of offer ie BOGO, discount, informational\n",
    "* difficulty (int) - minimum required spend to complete an offer\n",
    "* reward (int) - reward given for completing an offer\n",
    "* duration (int) - time for offer to be open, in days\n",
    "* channels (list of strings)\n",
    "\n",
    "**profile.json**\n",
    "* age (int) - age of the customer \n",
    "* became_member_on (int) - date when customer created an app account\n",
    "* gender (str) - gender of the customer (note some entries contain 'O' for other rather than M or F)\n",
    "* id (str) - customer id\n",
    "* income (float) - customer's income\n",
    "\n",
    "**transcript.json**\n",
    "* event (str) - record description (ie transaction, offer received, offer viewed, etc.)\n",
    "* person (str) - customer id\n",
    "* time (int) - time in hours since start of test. The data begins at time t=0\n",
    "* value - (dict of strings) - either an offer id or transaction amount depending on the record\n",
    "\n",
    "**Note:** If you are using the workspace, you will need to go to the terminal and run the command `conda update pandas` before reading in the files. This is because the version of pandas in the workspace cannot read in the transcript.json file correctly, but the newest version of pandas can. You can access the termnal from the orange icon in the top left of this notebook.  \n",
    "\n",
    "You can see how to access the terminal and how the install works using the two images below.  First you need to access the terminal:\n",
    "\n",
    "<img src=\"pic1.png\"/>\n",
    "\n",
    "Then you will want to run the above command:\n",
    "\n",
    "<img src=\"pic2.png\"/>\n",
    "\n",
    "Finally, when you enter back into the notebook (use the jupyter icon again), you should be able to run the below cell without any errors."
   ]
  },
  {
   "cell_type": "markdown",
   "metadata": {},
   "source": [
    "# Data Cleaning \n",
    "\n",
    "## Datasets Loading"
   ]
  },
  {
   "cell_type": "code",
   "execution_count": 1,
   "metadata": {},
   "outputs": [],
   "source": [
    "import pandas as pd\n",
    "import numpy as np\n",
    "import math\n",
    "import json\n",
    "import matplotlib.pyplot as plt\n",
    "%matplotlib inline\n",
    "\n",
    "# read in the json files\n",
    "df1 = pd.read_json('data/portfolio.json', orient='records', lines=True)\n",
    "df2 = pd.read_json('data/profile.json', orient='records', lines=True)\n",
    "df3 = pd.read_json('data/transcript.json', orient='records', lines=True)"
   ]
  },
  {
   "cell_type": "code",
   "execution_count": 2,
   "metadata": {},
   "outputs": [
    {
     "data": {
      "text/plain": [
       "'2.2.1'"
      ]
     },
     "execution_count": 2,
     "metadata": {},
     "output_type": "execute_result"
    }
   ],
   "source": [
    "pd.__version__"
   ]
  },
  {
   "cell_type": "code",
   "execution_count": 3,
   "metadata": {},
   "outputs": [
    {
     "data": {
      "text/plain": [
       "17000"
      ]
     },
     "execution_count": 3,
     "metadata": {},
     "output_type": "execute_result"
    }
   ],
   "source": [
    "df3.person.nunique()\n",
    "# df3.head()"
   ]
  },
  {
   "cell_type": "markdown",
   "metadata": {},
   "source": [
    "## Datasets Cleaning\n",
    "\n",
    "### Portfolio\n",
    "There is no missing values or duplicates in this file. \n",
    "* rename column id to offer id\n",
    "* change id to numerical offer id\n",
    "* create a dummy column for offer_type (informational,discount,bogo)\n",
    "* create dummy columns for channels"
   ]
  },
  {
   "cell_type": "code",
   "execution_count": 4,
   "metadata": {},
   "outputs": [
    {
     "data": {
      "text/html": [
       "<div>\n",
       "<style scoped>\n",
       "    .dataframe tbody tr th:only-of-type {\n",
       "        vertical-align: middle;\n",
       "    }\n",
       "\n",
       "    .dataframe tbody tr th {\n",
       "        vertical-align: top;\n",
       "    }\n",
       "\n",
       "    .dataframe thead th {\n",
       "        text-align: right;\n",
       "    }\n",
       "</style>\n",
       "<table border=\"1\" class=\"dataframe\">\n",
       "  <thead>\n",
       "    <tr style=\"text-align: right;\">\n",
       "      <th></th>\n",
       "      <th>reward</th>\n",
       "      <th>channels</th>\n",
       "      <th>difficulty</th>\n",
       "      <th>duration</th>\n",
       "      <th>offer_type</th>\n",
       "      <th>id</th>\n",
       "    </tr>\n",
       "  </thead>\n",
       "  <tbody>\n",
       "    <tr>\n",
       "      <th>0</th>\n",
       "      <td>10</td>\n",
       "      <td>[email, mobile, social]</td>\n",
       "      <td>10</td>\n",
       "      <td>7</td>\n",
       "      <td>bogo</td>\n",
       "      <td>ae264e3637204a6fb9bb56bc8210ddfd</td>\n",
       "    </tr>\n",
       "    <tr>\n",
       "      <th>1</th>\n",
       "      <td>10</td>\n",
       "      <td>[web, email, mobile, social]</td>\n",
       "      <td>10</td>\n",
       "      <td>5</td>\n",
       "      <td>bogo</td>\n",
       "      <td>4d5c57ea9a6940dd891ad53e9dbe8da0</td>\n",
       "    </tr>\n",
       "    <tr>\n",
       "      <th>2</th>\n",
       "      <td>0</td>\n",
       "      <td>[web, email, mobile]</td>\n",
       "      <td>0</td>\n",
       "      <td>4</td>\n",
       "      <td>informational</td>\n",
       "      <td>3f207df678b143eea3cee63160fa8bed</td>\n",
       "    </tr>\n",
       "    <tr>\n",
       "      <th>3</th>\n",
       "      <td>5</td>\n",
       "      <td>[web, email, mobile]</td>\n",
       "      <td>5</td>\n",
       "      <td>7</td>\n",
       "      <td>bogo</td>\n",
       "      <td>9b98b8c7a33c4b65b9aebfe6a799e6d9</td>\n",
       "    </tr>\n",
       "    <tr>\n",
       "      <th>4</th>\n",
       "      <td>5</td>\n",
       "      <td>[web, email]</td>\n",
       "      <td>20</td>\n",
       "      <td>10</td>\n",
       "      <td>discount</td>\n",
       "      <td>0b1e1539f2cc45b7b9fa7c272da2e1d7</td>\n",
       "    </tr>\n",
       "  </tbody>\n",
       "</table>\n",
       "</div>"
      ],
      "text/plain": [
       "   reward                      channels  difficulty  duration     offer_type  \\\n",
       "0      10       [email, mobile, social]          10         7           bogo   \n",
       "1      10  [web, email, mobile, social]          10         5           bogo   \n",
       "2       0          [web, email, mobile]           0         4  informational   \n",
       "3       5          [web, email, mobile]           5         7           bogo   \n",
       "4       5                  [web, email]          20        10       discount   \n",
       "\n",
       "                                 id  \n",
       "0  ae264e3637204a6fb9bb56bc8210ddfd  \n",
       "1  4d5c57ea9a6940dd891ad53e9dbe8da0  \n",
       "2  3f207df678b143eea3cee63160fa8bed  \n",
       "3  9b98b8c7a33c4b65b9aebfe6a799e6d9  \n",
       "4  0b1e1539f2cc45b7b9fa7c272da2e1d7  "
      ]
     },
     "execution_count": 4,
     "metadata": {},
     "output_type": "execute_result"
    }
   ],
   "source": [
    "portfolio = df1.copy()\n",
    "portfolio.head()"
   ]
  },
  {
   "cell_type": "code",
   "execution_count": 5,
   "metadata": {},
   "outputs": [],
   "source": [
    "portfolio = portfolio.rename(columns={\"id\":\"offer_id\"})"
   ]
  },
  {
   "cell_type": "code",
   "execution_count": 6,
   "metadata": {},
   "outputs": [],
   "source": [
    "#encode offer ids in portfolio dataframe from string format to integer\n",
    "offer_ids = portfolio['offer_id'].unique()\n",
    "offer_ids_dict = pd.Series(offer_ids).to_dict()\n",
    "offer_ids_dict = dict([(value,key) for key,value in offer_ids_dict.items()])"
   ]
  },
  {
   "cell_type": "code",
   "execution_count": 7,
   "metadata": {},
   "outputs": [
    {
     "data": {
      "text/plain": [
       "{'ae264e3637204a6fb9bb56bc8210ddfd': 0,\n",
       " '4d5c57ea9a6940dd891ad53e9dbe8da0': 1,\n",
       " '3f207df678b143eea3cee63160fa8bed': 2,\n",
       " '9b98b8c7a33c4b65b9aebfe6a799e6d9': 3,\n",
       " '0b1e1539f2cc45b7b9fa7c272da2e1d7': 4,\n",
       " '2298d6c36e964ae4a3e7e9706d1fb8c2': 5,\n",
       " 'fafdcd668e3743c1bb461111dcafc2a4': 6,\n",
       " '5a8bc65990b245e5a138643cd4eb9837': 7,\n",
       " 'f19421c1d4aa40978ebb69ca19b0e20d': 8,\n",
       " '2906b810c7d4411798c6938adc9daaa5': 9}"
      ]
     },
     "execution_count": 7,
     "metadata": {},
     "output_type": "execute_result"
    }
   ],
   "source": [
    "offer_ids_dict"
   ]
  },
  {
   "cell_type": "code",
   "execution_count": 8,
   "metadata": {},
   "outputs": [],
   "source": [
    "#map offer id in portfolio to the encoded offer id\n",
    "portfolio['offer_id'] = portfolio['offer_id'].map(offer_ids_dict)"
   ]
  },
  {
   "cell_type": "code",
   "execution_count": 9,
   "metadata": {},
   "outputs": [],
   "source": [
    "# Return offer types as a dummy column\n",
    "def offer_type_val(val):\n",
    "    if val.find(offer) > -1:\n",
    "        return 1\n",
    "    else:\n",
    "        return 0\n",
    "        \n",
    "offer_types = portfolio.offer_type.unique()\n",
    "        \n",
    "# Apply function\n",
    "for offer in offer_types:\n",
    "    portfolio[offer] = portfolio['offer_type'].apply(offer_type_val)"
   ]
  },
  {
   "cell_type": "code",
   "execution_count": 11,
   "metadata": {
    "scrolled": true
   },
   "outputs": [
    {
     "data": {
      "text/html": [
       "<div>\n",
       "<style scoped>\n",
       "    .dataframe tbody tr th:only-of-type {\n",
       "        vertical-align: middle;\n",
       "    }\n",
       "\n",
       "    .dataframe tbody tr th {\n",
       "        vertical-align: top;\n",
       "    }\n",
       "\n",
       "    .dataframe thead th {\n",
       "        text-align: right;\n",
       "    }\n",
       "</style>\n",
       "<table border=\"1\" class=\"dataframe\">\n",
       "  <thead>\n",
       "    <tr style=\"text-align: right;\">\n",
       "      <th></th>\n",
       "      <th></th>\n",
       "      <th>email</th>\n",
       "      <th>mobile</th>\n",
       "      <th>social</th>\n",
       "      <th>web</th>\n",
       "    </tr>\n",
       "  </thead>\n",
       "  <tbody>\n",
       "    <tr>\n",
       "      <th rowspan=\"3\" valign=\"top\">0</th>\n",
       "      <th>0</th>\n",
       "      <td>True</td>\n",
       "      <td>False</td>\n",
       "      <td>False</td>\n",
       "      <td>False</td>\n",
       "    </tr>\n",
       "    <tr>\n",
       "      <th>1</th>\n",
       "      <td>False</td>\n",
       "      <td>True</td>\n",
       "      <td>False</td>\n",
       "      <td>False</td>\n",
       "    </tr>\n",
       "    <tr>\n",
       "      <th>2</th>\n",
       "      <td>False</td>\n",
       "      <td>False</td>\n",
       "      <td>True</td>\n",
       "      <td>False</td>\n",
       "    </tr>\n",
       "    <tr>\n",
       "      <th rowspan=\"4\" valign=\"top\">1</th>\n",
       "      <th>0</th>\n",
       "      <td>False</td>\n",
       "      <td>False</td>\n",
       "      <td>False</td>\n",
       "      <td>True</td>\n",
       "    </tr>\n",
       "    <tr>\n",
       "      <th>1</th>\n",
       "      <td>True</td>\n",
       "      <td>False</td>\n",
       "      <td>False</td>\n",
       "      <td>False</td>\n",
       "    </tr>\n",
       "    <tr>\n",
       "      <th>2</th>\n",
       "      <td>False</td>\n",
       "      <td>True</td>\n",
       "      <td>False</td>\n",
       "      <td>False</td>\n",
       "    </tr>\n",
       "    <tr>\n",
       "      <th>3</th>\n",
       "      <td>False</td>\n",
       "      <td>False</td>\n",
       "      <td>True</td>\n",
       "      <td>False</td>\n",
       "    </tr>\n",
       "    <tr>\n",
       "      <th rowspan=\"3\" valign=\"top\">2</th>\n",
       "      <th>0</th>\n",
       "      <td>False</td>\n",
       "      <td>False</td>\n",
       "      <td>False</td>\n",
       "      <td>True</td>\n",
       "    </tr>\n",
       "    <tr>\n",
       "      <th>1</th>\n",
       "      <td>True</td>\n",
       "      <td>False</td>\n",
       "      <td>False</td>\n",
       "      <td>False</td>\n",
       "    </tr>\n",
       "    <tr>\n",
       "      <th>2</th>\n",
       "      <td>False</td>\n",
       "      <td>True</td>\n",
       "      <td>False</td>\n",
       "      <td>False</td>\n",
       "    </tr>\n",
       "    <tr>\n",
       "      <th rowspan=\"3\" valign=\"top\">3</th>\n",
       "      <th>0</th>\n",
       "      <td>False</td>\n",
       "      <td>False</td>\n",
       "      <td>False</td>\n",
       "      <td>True</td>\n",
       "    </tr>\n",
       "    <tr>\n",
       "      <th>1</th>\n",
       "      <td>True</td>\n",
       "      <td>False</td>\n",
       "      <td>False</td>\n",
       "      <td>False</td>\n",
       "    </tr>\n",
       "    <tr>\n",
       "      <th>2</th>\n",
       "      <td>False</td>\n",
       "      <td>True</td>\n",
       "      <td>False</td>\n",
       "      <td>False</td>\n",
       "    </tr>\n",
       "    <tr>\n",
       "      <th rowspan=\"2\" valign=\"top\">4</th>\n",
       "      <th>0</th>\n",
       "      <td>False</td>\n",
       "      <td>False</td>\n",
       "      <td>False</td>\n",
       "      <td>True</td>\n",
       "    </tr>\n",
       "    <tr>\n",
       "      <th>1</th>\n",
       "      <td>True</td>\n",
       "      <td>False</td>\n",
       "      <td>False</td>\n",
       "      <td>False</td>\n",
       "    </tr>\n",
       "    <tr>\n",
       "      <th rowspan=\"4\" valign=\"top\">5</th>\n",
       "      <th>0</th>\n",
       "      <td>False</td>\n",
       "      <td>False</td>\n",
       "      <td>False</td>\n",
       "      <td>True</td>\n",
       "    </tr>\n",
       "    <tr>\n",
       "      <th>1</th>\n",
       "      <td>True</td>\n",
       "      <td>False</td>\n",
       "      <td>False</td>\n",
       "      <td>False</td>\n",
       "    </tr>\n",
       "    <tr>\n",
       "      <th>2</th>\n",
       "      <td>False</td>\n",
       "      <td>True</td>\n",
       "      <td>False</td>\n",
       "      <td>False</td>\n",
       "    </tr>\n",
       "    <tr>\n",
       "      <th>3</th>\n",
       "      <td>False</td>\n",
       "      <td>False</td>\n",
       "      <td>True</td>\n",
       "      <td>False</td>\n",
       "    </tr>\n",
       "    <tr>\n",
       "      <th rowspan=\"4\" valign=\"top\">6</th>\n",
       "      <th>0</th>\n",
       "      <td>False</td>\n",
       "      <td>False</td>\n",
       "      <td>False</td>\n",
       "      <td>True</td>\n",
       "    </tr>\n",
       "    <tr>\n",
       "      <th>1</th>\n",
       "      <td>True</td>\n",
       "      <td>False</td>\n",
       "      <td>False</td>\n",
       "      <td>False</td>\n",
       "    </tr>\n",
       "    <tr>\n",
       "      <th>2</th>\n",
       "      <td>False</td>\n",
       "      <td>True</td>\n",
       "      <td>False</td>\n",
       "      <td>False</td>\n",
       "    </tr>\n",
       "    <tr>\n",
       "      <th>3</th>\n",
       "      <td>False</td>\n",
       "      <td>False</td>\n",
       "      <td>True</td>\n",
       "      <td>False</td>\n",
       "    </tr>\n",
       "    <tr>\n",
       "      <th rowspan=\"3\" valign=\"top\">7</th>\n",
       "      <th>0</th>\n",
       "      <td>True</td>\n",
       "      <td>False</td>\n",
       "      <td>False</td>\n",
       "      <td>False</td>\n",
       "    </tr>\n",
       "    <tr>\n",
       "      <th>1</th>\n",
       "      <td>False</td>\n",
       "      <td>True</td>\n",
       "      <td>False</td>\n",
       "      <td>False</td>\n",
       "    </tr>\n",
       "    <tr>\n",
       "      <th>2</th>\n",
       "      <td>False</td>\n",
       "      <td>False</td>\n",
       "      <td>True</td>\n",
       "      <td>False</td>\n",
       "    </tr>\n",
       "    <tr>\n",
       "      <th rowspan=\"4\" valign=\"top\">8</th>\n",
       "      <th>0</th>\n",
       "      <td>False</td>\n",
       "      <td>False</td>\n",
       "      <td>False</td>\n",
       "      <td>True</td>\n",
       "    </tr>\n",
       "    <tr>\n",
       "      <th>1</th>\n",
       "      <td>True</td>\n",
       "      <td>False</td>\n",
       "      <td>False</td>\n",
       "      <td>False</td>\n",
       "    </tr>\n",
       "    <tr>\n",
       "      <th>2</th>\n",
       "      <td>False</td>\n",
       "      <td>True</td>\n",
       "      <td>False</td>\n",
       "      <td>False</td>\n",
       "    </tr>\n",
       "    <tr>\n",
       "      <th>3</th>\n",
       "      <td>False</td>\n",
       "      <td>False</td>\n",
       "      <td>True</td>\n",
       "      <td>False</td>\n",
       "    </tr>\n",
       "    <tr>\n",
       "      <th rowspan=\"3\" valign=\"top\">9</th>\n",
       "      <th>0</th>\n",
       "      <td>False</td>\n",
       "      <td>False</td>\n",
       "      <td>False</td>\n",
       "      <td>True</td>\n",
       "    </tr>\n",
       "    <tr>\n",
       "      <th>1</th>\n",
       "      <td>True</td>\n",
       "      <td>False</td>\n",
       "      <td>False</td>\n",
       "      <td>False</td>\n",
       "    </tr>\n",
       "    <tr>\n",
       "      <th>2</th>\n",
       "      <td>False</td>\n",
       "      <td>True</td>\n",
       "      <td>False</td>\n",
       "      <td>False</td>\n",
       "    </tr>\n",
       "  </tbody>\n",
       "</table>\n",
       "</div>"
      ],
      "text/plain": [
       "     email  mobile  social    web\n",
       "0 0   True   False   False  False\n",
       "  1  False    True   False  False\n",
       "  2  False   False    True  False\n",
       "1 0  False   False   False   True\n",
       "  1   True   False   False  False\n",
       "  2  False    True   False  False\n",
       "  3  False   False    True  False\n",
       "2 0  False   False   False   True\n",
       "  1   True   False   False  False\n",
       "  2  False    True   False  False\n",
       "3 0  False   False   False   True\n",
       "  1   True   False   False  False\n",
       "  2  False    True   False  False\n",
       "4 0  False   False   False   True\n",
       "  1   True   False   False  False\n",
       "5 0  False   False   False   True\n",
       "  1   True   False   False  False\n",
       "  2  False    True   False  False\n",
       "  3  False   False    True  False\n",
       "6 0  False   False   False   True\n",
       "  1   True   False   False  False\n",
       "  2  False    True   False  False\n",
       "  3  False   False    True  False\n",
       "7 0   True   False   False  False\n",
       "  1  False    True   False  False\n",
       "  2  False   False    True  False\n",
       "8 0  False   False   False   True\n",
       "  1   True   False   False  False\n",
       "  2  False    True   False  False\n",
       "  3  False   False    True  False\n",
       "9 0  False   False   False   True\n",
       "  1   True   False   False  False\n",
       "  2  False    True   False  False"
      ]
     },
     "execution_count": 11,
     "metadata": {},
     "output_type": "execute_result"
    }
   ],
   "source": [
    "# dummy = pd.get_dummies(portfolio.channels.apply(pd.Series).stack()).sum(level=0)\n",
    "pd.get_dummies(portfolio.channels.apply(pd.Series).stack())"
   ]
  },
  {
   "cell_type": "code",
   "execution_count": null,
   "metadata": {},
   "outputs": [],
   "source": [
    "dummy"
   ]
  },
  {
   "cell_type": "code",
   "execution_count": null,
   "metadata": {
    "scrolled": true
   },
   "outputs": [],
   "source": [
    "portfolio = pd.concat([portfolio,dummy],axis=1)"
   ]
  },
  {
   "cell_type": "code",
   "execution_count": null,
   "metadata": {},
   "outputs": [],
   "source": [
    "portfolio.drop(['channels'],axis =1, inplace= True)"
   ]
  },
  {
   "cell_type": "code",
   "execution_count": null,
   "metadata": {
    "scrolled": true
   },
   "outputs": [],
   "source": [
    "portfolio.head()"
   ]
  },
  {
   "cell_type": "markdown",
   "metadata": {},
   "source": [
    "### Profile"
   ]
  },
  {
   "cell_type": "code",
   "execution_count": null,
   "metadata": {
    "scrolled": true
   },
   "outputs": [],
   "source": [
    "profile = df2.copy()\n",
    "profile.head()"
   ]
  },
  {
   "cell_type": "code",
   "execution_count": null,
   "metadata": {},
   "outputs": [],
   "source": [
    "profile.shape"
   ]
  },
  {
   "cell_type": "code",
   "execution_count": null,
   "metadata": {
    "scrolled": true
   },
   "outputs": [],
   "source": [
    "profile.describe()"
   ]
  },
  {
   "cell_type": "code",
   "execution_count": null,
   "metadata": {
    "scrolled": true
   },
   "outputs": [],
   "source": [
    "profile.info()"
   ]
  },
  {
   "cell_type": "code",
   "execution_count": null,
   "metadata": {
    "scrolled": true
   },
   "outputs": [],
   "source": [
    "profile[profile.age == 118].sort_values('income', ascending = False)"
   ]
  },
  {
   "cell_type": "code",
   "execution_count": null,
   "metadata": {},
   "outputs": [],
   "source": [
    "#checking if it has any value for gender and income\n",
    "profile[profile.age == 118].gender.notna().sum() , profile[profile.age == 118].income.notna().sum()\n"
   ]
  },
  {
   "cell_type": "markdown",
   "metadata": {},
   "source": [
    "There is a high count for the outliers age (age = 118) which is more than 2k. This could be when customer didn't enter their age in the form, it will automatically set to a default date. \n",
    "\n",
    "We have to take care of missing values if we want to do modelling later. There are three options that we have; get rid of the corresponding districts, get rid of the whole attributes or replace the values to some value. So, in this case we are going to remove this data because it's representing false age and even the income and gender data are missing."
   ]
  },
  {
   "cell_type": "code",
   "execution_count": null,
   "metadata": {},
   "outputs": [],
   "source": [
    "profile = profile[profile['age']<118].reset_index(drop=True)"
   ]
  },
  {
   "cell_type": "code",
   "execution_count": null,
   "metadata": {},
   "outputs": [],
   "source": [
    "profile.age.sort_values()"
   ]
  },
  {
   "cell_type": "code",
   "execution_count": null,
   "metadata": {},
   "outputs": [],
   "source": [
    "profile.info()"
   ]
  },
  {
   "cell_type": "code",
   "execution_count": null,
   "metadata": {},
   "outputs": [],
   "source": [
    "profile.duplicated().sum()"
   ]
  },
  {
   "cell_type": "markdown",
   "metadata": {},
   "source": [
    "From the information above, we see that there is no missing value or duplicated rows.\n",
    "\n",
    "So the next cleaning process for this dataset will be:\n",
    "\n",
    "- change id to customer_id\n",
    "- change id to encoded id\n",
    "- change datatype for column became_member_on to date"
   ]
  },
  {
   "cell_type": "code",
   "execution_count": null,
   "metadata": {
    "scrolled": true
   },
   "outputs": [],
   "source": [
    "profile = profile.rename(columns = {'id':'customer_id'})"
   ]
  },
  {
   "cell_type": "code",
   "execution_count": null,
   "metadata": {
    "scrolled": true
   },
   "outputs": [],
   "source": [
    "customer_ids = pd.unique(profile['customer_id'])\n",
    "#encode customer ids which is in string format to integers\n",
    "customer_ids_dict = pd.Series(customer_ids).to_dict()\n",
    "#swap value and key\n",
    "customer_ids_dict = dict([(value, key) for key, value in customer_ids_dict.items()]) \n",
    "#create item iterator\n",
    "itr = iter(customer_ids_dict.items())\n",
    "lst = [next(itr) for i in range(10)]\n",
    "lst\n"
   ]
  },
  {
   "cell_type": "code",
   "execution_count": null,
   "metadata": {},
   "outputs": [],
   "source": [
    "#map the new encoded customer id to the old customer id in profile table\n",
    "profile['customer_id'] = profile['customer_id'].map(customer_ids_dict)"
   ]
  },
  {
   "cell_type": "code",
   "execution_count": null,
   "metadata": {},
   "outputs": [],
   "source": [
    "profile['became_member_on'] = pd.to_datetime(profile['became_member_on'],format='%Y%m%d')"
   ]
  },
  {
   "cell_type": "code",
   "execution_count": null,
   "metadata": {
    "scrolled": true
   },
   "outputs": [],
   "source": [
    "profile.head()"
   ]
  },
  {
   "cell_type": "code",
   "execution_count": null,
   "metadata": {},
   "outputs": [],
   "source": [
    "profile.dtypes"
   ]
  },
  {
   "cell_type": "markdown",
   "metadata": {},
   "source": [
    "### Transcript"
   ]
  },
  {
   "cell_type": "code",
   "execution_count": null,
   "metadata": {
    "scrolled": true
   },
   "outputs": [],
   "source": [
    "transcript = df3.copy()\n",
    "transcript.head()"
   ]
  },
  {
   "cell_type": "raw",
   "metadata": {},
   "source": [
    "# df3.event.unique()\n",
    "df3[df3.event == 'offer completed']"
   ]
  },
  {
   "cell_type": "code",
   "execution_count": null,
   "metadata": {},
   "outputs": [],
   "source": [
    "transcript.describe()"
   ]
  },
  {
   "cell_type": "code",
   "execution_count": null,
   "metadata": {},
   "outputs": [],
   "source": [
    "transcript.info()"
   ]
  },
  {
   "cell_type": "code",
   "execution_count": null,
   "metadata": {},
   "outputs": [],
   "source": [
    "transcript.event.unique()"
   ]
  },
  {
   "cell_type": "code",
   "execution_count": null,
   "metadata": {},
   "outputs": [],
   "source": [
    "transcript.event.value_counts() "
   ]
  },
  {
   "cell_type": "markdown",
   "metadata": {},
   "source": [
    "Data cleaning to do:\n",
    "\n",
    "- change column name from 'person' to 'customer_id'\n",
    "- convert the column 'Event' into 4 different columns based on their value\n",
    "- convert the column 'Values' into columns according to the value's dictionary keys\n",
    "- map encoded customer ids to ids in transcrpt and profile dataframes\n"
   ]
  },
  {
   "cell_type": "code",
   "execution_count": null,
   "metadata": {},
   "outputs": [],
   "source": [
    "transcript = transcript.rename(columns={'person':'customer_id'})"
   ]
  },
  {
   "cell_type": "code",
   "execution_count": null,
   "metadata": {},
   "outputs": [],
   "source": [
    "transcript['event'] = transcript.event.str.replace(' ','_')"
   ]
  },
  {
   "cell_type": "code",
   "execution_count": null,
   "metadata": {},
   "outputs": [],
   "source": [
    "dummy = pd.get_dummies(transcript.event)"
   ]
  },
  {
   "cell_type": "code",
   "execution_count": null,
   "metadata": {},
   "outputs": [],
   "source": [
    "transcript = pd.concat([transcript,dummy], axis=1)"
   ]
  },
  {
   "cell_type": "code",
   "execution_count": null,
   "metadata": {},
   "outputs": [],
   "source": [
    "transcript = transcript.drop('event',axis= 1)"
   ]
  },
  {
   "cell_type": "code",
   "execution_count": null,
   "metadata": {},
   "outputs": [],
   "source": [
    "dummy_val = transcript['value'].apply(pd.Series)"
   ]
  },
  {
   "cell_type": "markdown",
   "metadata": {},
   "source": [
    "Rename the 'offer id' to 'offer_id' and combine with the existing 'offer_id'. We can drop the reward column as it is already captured in portfolio dataframe."
   ]
  },
  {
   "cell_type": "code",
   "execution_count": null,
   "metadata": {
    "scrolled": true
   },
   "outputs": [],
   "source": [
    "dummy_val[dummy_val.offer_id.notna()].head()"
   ]
  },
  {
   "cell_type": "code",
   "execution_count": null,
   "metadata": {},
   "outputs": [],
   "source": [
    "dummy_val.offer_id.fillna(dummy_val['offer id'],inplace = True)"
   ]
  },
  {
   "cell_type": "code",
   "execution_count": null,
   "metadata": {
    "scrolled": true
   },
   "outputs": [],
   "source": [
    "dummy_val = dummy_val.drop(['offer id','reward'],axis = 1)"
   ]
  },
  {
   "cell_type": "code",
   "execution_count": null,
   "metadata": {
    "scrolled": true
   },
   "outputs": [],
   "source": [
    "dummy_val.head()"
   ]
  },
  {
   "cell_type": "code",
   "execution_count": null,
   "metadata": {},
   "outputs": [],
   "source": [
    "transcript = pd.concat([transcript,dummy_val], axis = 1)\n",
    "transcript = transcript.drop('value', axis = 1)"
   ]
  },
  {
   "cell_type": "code",
   "execution_count": null,
   "metadata": {},
   "outputs": [],
   "source": [
    "#map encoded customer ids to ids in transcrpt dataframes\n",
    "transcript['customer_id'] = transcript['customer_id'].map(customer_ids_dict)"
   ]
  },
  {
   "cell_type": "code",
   "execution_count": null,
   "metadata": {},
   "outputs": [],
   "source": [
    "#map offer id in transcript to the encoded offer id\n",
    "transcript['offer_id'] = transcript['offer_id'].map(offer_ids_dict)"
   ]
  },
  {
   "cell_type": "code",
   "execution_count": null,
   "metadata": {
    "scrolled": true
   },
   "outputs": [],
   "source": [
    "transcript.head()"
   ]
  },
  {
   "cell_type": "code",
   "execution_count": null,
   "metadata": {},
   "outputs": [],
   "source": [
    "transcript.info()"
   ]
  },
  {
   "cell_type": "code",
   "execution_count": null,
   "metadata": {},
   "outputs": [],
   "source": [
    "#drop all rows contain NA because they are the customer with age>100 \n",
    "#that we removed earlier in profile table\n",
    "\n",
    "transcript.dropna(axis = 0, subset = ['customer_id'], inplace = True)"
   ]
  },
  {
   "cell_type": "code",
   "execution_count": null,
   "metadata": {},
   "outputs": [],
   "source": [
    "transcript.info()"
   ]
  },
  {
   "cell_type": "markdown",
   "metadata": {},
   "source": [
    "### Combining Dataset"
   ]
  },
  {
   "cell_type": "code",
   "execution_count": null,
   "metadata": {
    "scrolled": true
   },
   "outputs": [],
   "source": [
    "df = pd.merge(profile,transcript, how = 'outer', on = 'customer_id')\n",
    "df = pd.merge(df,portfolio, how = 'outer', on = 'offer_id')\n",
    "df.head()"
   ]
  },
  {
   "cell_type": "markdown",
   "metadata": {},
   "source": [
    "# Data Visualisation\n"
   ]
  },
  {
   "cell_type": "markdown",
   "metadata": {},
   "source": [
    "## Offers\n",
    "\n",
    "In the first part, let's explore the offer types. Let find out the business funnel for the offers and what criteria does the offer has for the higher conversion. "
   ]
  },
  {
   "cell_type": "code",
   "execution_count": null,
   "metadata": {},
   "outputs": [],
   "source": [
    "df.groupby('offer_id')['offer_received','offer_viewed','offer_completed'].sum().plot.bar()\n",
    "plt.legend(bbox_to_anchor=(1.05, 1),loc='upper left', borderaxespad=0.);"
   ]
  },
  {
   "cell_type": "code",
   "execution_count": null,
   "metadata": {},
   "outputs": [],
   "source": [
    "offer_type_funnel = df.groupby('offer_type')['offer_received','offer_viewed','offer_completed'].sum()\n",
    "offer_type_funnel"
   ]
  },
  {
   "cell_type": "markdown",
   "metadata": {},
   "source": [
    "To make a fair comparison, let's find the average value of each campaign and change into percentage on funnel level."
   ]
  },
  {
   "cell_type": "code",
   "execution_count": null,
   "metadata": {},
   "outputs": [],
   "source": [
    "#divider is the counts of each offer type\n",
    "divider = portfolio.offer_type.value_counts().values\n",
    "\n",
    "#average received,viewed,and completed value for each offer base on their type\n",
    "(offer_type_funnel.T/divider).T.plot.bar()\n",
    "plt.legend(bbox_to_anchor=(1.05, 1),loc='upper left', borderaxespad=0.);"
   ]
  },
  {
   "cell_type": "markdown",
   "metadata": {},
   "source": [
    "Let's normalize the above value and replot them."
   ]
  },
  {
   "cell_type": "code",
   "execution_count": null,
   "metadata": {},
   "outputs": [],
   "source": [
    "a = pd.Series((offer_type_funnel.T/divider).iloc[0]/(offer_type_funnel.T/divider).iloc[0], name = 'Received')\n",
    "b = pd.Series((offer_type_funnel.T/divider).iloc[1]/(offer_type_funnel.T/divider).iloc[0], name = 'Viewed')\n",
    "c = pd.Series((offer_type_funnel.T/divider).iloc[2]/(offer_type_funnel.T/divider).iloc[1], name = 'Completed')"
   ]
  },
  {
   "cell_type": "code",
   "execution_count": null,
   "metadata": {},
   "outputs": [],
   "source": [
    "ab = pd.merge(a,b, on = 'offer_type')\n",
    "pd.merge(ab,c, on = 'offer_type').plot.bar()\n",
    "plt.legend(bbox_to_anchor=(1.05, 1),loc='upper left', borderaxespad=0.);"
   ]
  },
  {
   "cell_type": "markdown",
   "metadata": {},
   "source": [
    "From the chart above, we can see that customer seems to be most interested in BOGO offer, hence it has the highest view but it doesn't mean that it has the highest conversion. The discout type offer seems to have the highest conversion. Meanwhile, the informational offer seems to have no conversion at all, maybe because customer realized they are not gaining anything here."
   ]
  },
  {
   "cell_type": "markdown",
   "metadata": {},
   "source": [
    "How about the difficulty of the offer? Does it show any trend on completed offer counts? Let's explore that below."
   ]
  },
  {
   "cell_type": "code",
   "execution_count": null,
   "metadata": {},
   "outputs": [],
   "source": [
    "df.groupby('offer_type')['offer_received','offer_viewed','offer_completed'].sum()"
   ]
  },
  {
   "cell_type": "code",
   "execution_count": null,
   "metadata": {},
   "outputs": [],
   "source": [
    "offer_type_funnel = df.groupby('difficulty')['offer_received','offer_viewed','offer_completed'].sum()\n",
    "offer_type_funnel"
   ]
  },
  {
   "cell_type": "code",
   "execution_count": null,
   "metadata": {},
   "outputs": [],
   "source": [
    "#divider is the counts of each offer type\n",
    "divider = portfolio.difficulty.value_counts().sort_index().values\n",
    "#average received,viewed,and completed value for each offer base on their difficulty\n",
    "(offer_type_funnel.T/divider).T.plot.bar();\n",
    "plt.title(\"Customer counts base on Difficulty\")\n",
    "plt.ylabel('Counts')\n",
    "plt.xlabel('Difficulty')\n",
    "plt.legend(bbox_to_anchor=(1.05, 1),loc='upper left', borderaxespad=0.)\n",
    "\n",
    "a = pd.Series((offer_type_funnel.T/divider).iloc[0]/(offer_type_funnel.T/divider).iloc[0], name = 'Received')\n",
    "b = pd.Series((offer_type_funnel.T/divider).iloc[1]/(offer_type_funnel.T/divider).iloc[0], name = 'Viewed')\n",
    "c = pd.Series((offer_type_funnel.T/divider).iloc[2]/(offer_type_funnel.T/divider).iloc[1], name = 'Completed')\n",
    "\n",
    "ab = pd.merge(a,b, on = 'difficulty')\n",
    "pd.merge(ab,c, on = 'difficulty').plot.bar()\n",
    "plt.title(\"Customer proportion base on Difficulty\")\n",
    "plt.ylabel('Percentage')\n",
    "plt.xlabel('Difficulty')\n",
    "plt.legend(bbox_to_anchor=(1.05, 1),loc='upper left', borderaxespad=0.);"
   ]
  },
  {
   "cell_type": "code",
   "execution_count": null,
   "metadata": {},
   "outputs": [],
   "source": [
    "portfolio.groupby(['offer_type','difficulty']).offer_id.count()"
   ]
  },
  {
   "cell_type": "markdown",
   "metadata": {},
   "source": [
    "0 difficulty is 100 percent coming from informational offer. Most people viewed the  difficulty between 5-10 with 7 having the highest count for both views and completions.\n",
    "The completed offer for the most difficult offer has more than 100% completions from the total viewed. This could obviously resulted by the inclusion of the demographic who doesn't even received the offer but still make the purchase anyway (which was explain earlier in the introduction).\n",
    "\n",
    "More ideas for conclusion later:\n",
    "\n",
    " - what is this informational offer actually. because the 0 completed offer kind of doesn'y make sense. I assume that if they release new product or seasonal drinks, they sent the information about this to their customers. In reality there must have been people buying the new drinks. So in this case the 0 doesn't make sense.\n",
    " \n",
    " - If that's the case, that means that this informational offer are giving them negative return of investment (ROI) and they should stop with the offer."
   ]
  },
  {
   "cell_type": "markdown",
   "metadata": {},
   "source": [
    "## Distributions of Customer's Age,Gender and Income\n",
    "\n",
    "\n",
    "Now,let's explore the customer's data. Let's find out about the age, gender and how much are revenue generated by certain group of customers and are there any correlation between the customer and the offer."
   ]
  },
  {
   "cell_type": "code",
   "execution_count": null,
   "metadata": {},
   "outputs": [],
   "source": [
    "profile.head()"
   ]
  },
  {
   "cell_type": "markdown",
   "metadata": {},
   "source": [
    "Let's look at the age distribution after we have remove the maximum age of 118 in the earlier cleaning part."
   ]
  },
  {
   "cell_type": "code",
   "execution_count": null,
   "metadata": {},
   "outputs": [],
   "source": [
    "profile = profile[profile.age < profile.age.max()]\n",
    "plt.hist(profile.age)\n",
    "plt.grid()\n",
    "plt.title(\"Customer's Age Distribution\");"
   ]
  },
  {
   "cell_type": "markdown",
   "metadata": {},
   "source": [
    "They are normally distributed with median around 55 of age and slightly skewed to the right."
   ]
  },
  {
   "cell_type": "code",
   "execution_count": null,
   "metadata": {
    "scrolled": true
   },
   "outputs": [],
   "source": [
    "plt.hist(profile.income)\n",
    "plt.grid()\n",
    "plt.title(\"Customer's Income Distribution\");"
   ]
  },
  {
   "cell_type": "code",
   "execution_count": null,
   "metadata": {},
   "outputs": [],
   "source": [
    "profile.hist(bins =40,figsize =(30,15))\n",
    "plt.show;"
   ]
  },
  {
   "cell_type": "code",
   "execution_count": null,
   "metadata": {},
   "outputs": [],
   "source": [
    "#cust age and income distribution\n",
    "\n",
    "profile.describe()"
   ]
  },
  {
   "cell_type": "code",
   "execution_count": null,
   "metadata": {
    "scrolled": true
   },
   "outputs": [],
   "source": [
    "#scatter plot to see relationship between age and income\n",
    "plt.scatter(profile.age, profile.income, alpha = 0.05)\n",
    "plt.xlabel('Age')\n",
    "plt.ylabel('Income')\n",
    "plt.title('Income and Age Scatter Plot');"
   ]
  },
  {
   "cell_type": "markdown",
   "metadata": {},
   "source": [
    "The above plot some how show the data are being capped multiple times for both age and income. I am not sure how reliable this data is now after looking at this visual, because this can give a very bias result for our findings or when we train a model.\n",
    "\n",
    "The income is capped at around 75k in the first level, then at 100k and 120k for the subsequent levels. "
   ]
  },
  {
   "cell_type": "code",
   "execution_count": null,
   "metadata": {},
   "outputs": [],
   "source": [
    "#just checking if the data is actually capped based on the time they became a member\n",
    "\n",
    "profile.info()"
   ]
  },
  {
   "cell_type": "code",
   "execution_count": null,
   "metadata": {},
   "outputs": [],
   "source": [
    "plt.plot(profile.groupby('became_member_on')[['income']].max())"
   ]
  },
  {
   "cell_type": "code",
   "execution_count": null,
   "metadata": {},
   "outputs": [],
   "source": [
    "plt.plot(profile.groupby('became_member_on')[['income']].mean())"
   ]
  },
  {
   "cell_type": "markdown",
   "metadata": {},
   "source": [
    "Now let see how the gender is divided."
   ]
  },
  {
   "cell_type": "code",
   "execution_count": null,
   "metadata": {
    "scrolled": true
   },
   "outputs": [],
   "source": [
    "profile.gender.value_counts()"
   ]
  },
  {
   "cell_type": "code",
   "execution_count": null,
   "metadata": {},
   "outputs": [],
   "source": [
    "# profile.gender.value_counts(normalize = True).plot(kind = 'bar')\n",
    "gender = ['Male', 'Female', 'Other']\n",
    "gender_counts = profile.gender.value_counts().values\n",
    "\n",
    "# Create a pie chart of the number of customers for each gender\n",
    "plt.figure(figsize=(6, 6))\n",
    "plt.pie(gender_counts, labels=gender, autopct=\"%1.1f%%\")\n",
    "plt.title(\"Pie Chart of Customer Gender Distribution\")\n",
    "plt.show()"
   ]
  },
  {
   "cell_type": "markdown",
   "metadata": {},
   "source": [
    "Majority of the customer are male with value of more than 50% of them. \n",
    "\n",
    "Is there a pattern where woman are more prone to complete the offer compare to man? Let's find about that."
   ]
  },
  {
   "cell_type": "markdown",
   "metadata": {},
   "source": [
    "## Relationships between Customer's Feature and the Offers\n"
   ]
  },
  {
   "cell_type": "markdown",
   "metadata": {},
   "source": [
    "We realized earlier that the majority of our customer are male but does it apply the same for those who completed the offer? Let's find out on that."
   ]
  },
  {
   "cell_type": "code",
   "execution_count": null,
   "metadata": {},
   "outputs": [],
   "source": [
    "#create a customer table that holds information on their response towards the offer\n",
    "cust = df.groupby('customer_id')['transaction','offer_received','offer_viewed','offer_completed','amount'].sum()\n",
    "#sort the table by the highest value of transaction\n",
    "cust = cust.sort_values(by = ['transaction'], ascending = False)\n",
    "#add gender info\n",
    "cust['gender'] = df.groupby('customer_id')['gender'].max()"
   ]
  },
  {
   "cell_type": "code",
   "execution_count": null,
   "metadata": {},
   "outputs": [],
   "source": [
    "#average of offer completed by each gender\n",
    "gender_completed = cust.groupby('gender').offer_completed.mean()\n"
   ]
  },
  {
   "cell_type": "code",
   "execution_count": null,
   "metadata": {},
   "outputs": [],
   "source": [
    "#setting up values for x and y axis\n",
    "gender = ['Female', 'Male', 'Other']\n",
    "y_val = gender_completed.values\n",
    "\n",
    "# Create a bar chart of the number of customers for each gender\n",
    "plt.figure(figsize=(6, 6))\n",
    "plt.bar(gender, y_val)\n",
    "plt.title(\"Average Offer Completed by Gender\")\n",
    "plt.show()"
   ]
  },
  {
   "cell_type": "markdown",
   "metadata": {},
   "source": [
    "From the about result, we see that our male customer is in contrary contribute to least completed offer based on average per person. This is an interesting find where women and other gender tend to complete the offer most. \n"
   ]
  },
  {
   "cell_type": "markdown",
   "metadata": {},
   "source": [
    "\n",
    "Let's move on to the next question, how much transactions does the customer make and what's their spending pattern? "
   ]
  },
  {
   "cell_type": "code",
   "execution_count": null,
   "metadata": {},
   "outputs": [],
   "source": [
    "# adding more columns to the new cust table\n",
    "cust['transaction_no_offer'] = cust.transaction - cust.offer_completed\n",
    "cust['income'] = df.groupby('customer_id')['income'].max()\n",
    "cust['age'] = df.groupby('customer_id')['age'].max()\n"
   ]
  },
  {
   "cell_type": "code",
   "execution_count": null,
   "metadata": {},
   "outputs": [],
   "source": [
    "cust.head(10)"
   ]
  },
  {
   "cell_type": "code",
   "execution_count": null,
   "metadata": {},
   "outputs": [],
   "source": [
    "cust.tail()"
   ]
  },
  {
   "cell_type": "markdown",
   "metadata": {},
   "source": [
    "Since we cant track how much customer spend for each completed offer, what we can do here is to see the percentage of the offer transaction from the total transactions."
   ]
  },
  {
   "cell_type": "code",
   "execution_count": null,
   "metadata": {},
   "outputs": [],
   "source": [
    "#find the  % of offer to  total transaction.\n",
    "cust['perc_complete'] = round(cust.offer_completed/cust.transaction,2)\n"
   ]
  },
  {
   "cell_type": "code",
   "execution_count": null,
   "metadata": {},
   "outputs": [],
   "source": [
    "cust.head()"
   ]
  },
  {
   "cell_type": "code",
   "execution_count": null,
   "metadata": {},
   "outputs": [],
   "source": [
    "#encode the column 'gender' in the string format to integer\n",
    "gender_dict = {'O': 0, 'M': 1, 'F': 2}\n",
    "cust['gender'] = cust['gender'].map(gender_dict)"
   ]
  },
  {
   "cell_type": "markdown",
   "metadata": {},
   "source": [
    "Now let's look at how much each attribute correlate with the completed offer."
   ]
  },
  {
   "cell_type": "code",
   "execution_count": null,
   "metadata": {
    "scrolled": true
   },
   "outputs": [],
   "source": [
    "corr_matrix = cust.corr()\n",
    "corr_matrix['offer_completed'].sort_values(ascending = False)"
   ]
  },
  {
   "cell_type": "code",
   "execution_count": null,
   "metadata": {},
   "outputs": [],
   "source": [
    "corr_matrix = cust.corr()\n",
    "corr_matrix['offer_completed'].sort_values(ascending = False)"
   ]
  },
  {
   "cell_type": "markdown",
   "metadata": {},
   "source": [
    "The most positive correlated attribute is the perc_complete which is the amount of completed offer over the total transaction. It follows by the total amount spent by the customer. So the customer who spend more are more likely to complete the offer. There is a slight negative correlation between the customer's age and the completed offer, which means there's a slight tendency of the younger customer to complete the offer than the older customer.\n",
    "\n",
    "   So the top three attributes that we can use to define our top customers are base on how many time they completed the offer, follow by perc_complete and the total amount they spent. So next time we can send out offers on targeted customers. \n",
    "   \n",
    "$$ideas$$:\n",
    "- high value cust, sent out offer to increase their spending\n",
    "- sent special offer trying to convert customer (high spending customers wont bother much with voucher or coupon or offer, but we can target on customer base on 0-50th percentile that has offer completion <1/2 including those haven't convert\n",
    "- should we classify all these group of customers?\n",
    "\n",
    "\n",
    "So correlation number above shows the strength of the linear relationship between the completed offers and all other numerical variables. Now let have a look at them when they are plotted in graphs."
   ]
  },
  {
   "cell_type": "code",
   "execution_count": null,
   "metadata": {},
   "outputs": [],
   "source": [
    "import matplotlib.pyplot as plt\n",
    "import numpy as np\n",
    "\n",
    "# # make the data\n",
    "# x = cust.offer_completed\n",
    "# y = cust.perc_complete\n",
    "\n",
    "# # size and color:\n",
    "# sizes = cust.amount\n",
    "# # colors = {'M':'tab:blue', 'F':'tab:orange', 'O':'tab:green'}\n",
    "\n",
    "# # plot\n",
    "# fig, ax = plt.subplots()\n",
    "\n",
    "# # ax.scatter(x, y, s=sizes, c=colors, vmin=0, vmax=100)\n",
    "# ax.scatter(x, y, s=sizes)#, c=cust['gender'].map(colors))\n",
    "\n",
    "# # ax.set(xlim=(0, 8), xticks=np.arange(1, 8),\n",
    "# #        ylim=(0, 8), yticks=np.arange(1, 8))\n",
    "\n",
    "# plt.show()\n",
    "\n",
    "perc_completed = cust.perc_complete\n",
    "offer_com = cust.offer_completed\n",
    "total_spend = cust.amount\n",
    "\n",
    "# Scatter plot with color coding based on promo usage\n",
    "plt.figure(figsize=(10, 6))\n",
    "plt.scatter(total_spend, perc_completed, c=offer_com, cmap='viridis', edgecolors='black')\n",
    "\n",
    "# Label axes and title\n",
    "plt.xlabel('Total Amount')\n",
    "plt.ylabel('Percentage Offer Completed from Total Transaction')\n",
    "plt.title('Relationship between Percentage Offer Completed, Offer Completed, and Total Amount Spent')\n",
    "\n",
    "# Add colorbar\n",
    "sm = plt.cm.ScalarMappable(cmap='viridis', norm=plt.Normalize(min(offer_com), max(offer_com)))\n",
    "sm.set_array([])\n",
    "plt.colorbar(sm, label='Offer Completed')\n",
    "\n",
    "# Show plot\n",
    "plt.grid(True)\n",
    "plt.tight_layout()\n",
    "plt.show()"
   ]
  },
  {
   "cell_type": "code",
   "execution_count": null,
   "metadata": {},
   "outputs": [],
   "source": [
    "cust[cust.perc_complete > 1].sort_values(by= \"perc_complete\",ascending= False)"
   ]
  },
  {
   "cell_type": "code",
   "execution_count": null,
   "metadata": {},
   "outputs": [],
   "source": [
    "\n",
    "transaction_counts = cust.transaction\n",
    "offer_com = cust.offer_completed\n",
    "total_spend = cust.amount\n",
    "\n",
    "\n",
    "# Scatter plot with color coding based on promo usage\n",
    "plt.figure(figsize=(10, 6))\n",
    "plt.scatter(transaction_counts, total_spend, c=offer_com, cmap='viridis', edgecolors='black')\n",
    "\n",
    "# Label axes and title\n",
    "plt.xlabel('Transaction Count')\n",
    "plt.ylabel('Total Amount')\n",
    "plt.title('Relationship between Transaction Count, Offer Completed, and Total Amount Spent')\n",
    "\n",
    "# Add colorbar\n",
    "sm = plt.cm.ScalarMappable(cmap='viridis', norm=plt.Normalize(min(offer_com), max(offer_com)))\n",
    "sm.set_array([])\n",
    "plt.colorbar(sm, label='Offer Completed')\n",
    "\n",
    "# Show plot\n",
    "plt.grid(True)\n",
    "plt.tight_layout()\n",
    "plt.show()"
   ]
  },
  {
   "cell_type": "markdown",
   "metadata": {},
   "source": [
    "There is no direct correlation that we can see here. The higher transaction count doesn't mean the spending amount is also higher. The higher promo usage is in the middle area of the distribution."
   ]
  },
  {
   "cell_type": "code",
   "execution_count": null,
   "metadata": {},
   "outputs": [],
   "source": [
    "\n",
    "transaction_counts = cust.transaction\n",
    "promo_usage = cust.offer_completed\n",
    "income = cust.income\n",
    "\n",
    "# Scatter plot with color coding based on promo usage\n",
    "plt.figure(figsize=(10, 6))\n",
    "plt.scatter(transaction_counts, income, c=promo_usage, cmap='viridis', edgecolors='black')\n",
    "\n",
    "# Label axes and title\n",
    "plt.xlabel('Transaction Count')\n",
    "plt.ylabel('Income')\n",
    "plt.title('Relationship between Transaction Count, Promo Usage, and Total Spend')\n",
    "\n",
    "# Add colorbar\n",
    "sm = plt.cm.ScalarMappable(cmap='viridis', norm=plt.Normalize(min(promo_usage), max(promo_usage)))\n",
    "sm.set_array([])\n",
    "plt.colorbar(sm, label='Promo Usage')\n",
    "\n",
    "# Show plot\n",
    "plt.grid(True)\n",
    "plt.tight_layout()\n",
    "plt.show()"
   ]
  },
  {
   "cell_type": "code",
   "execution_count": null,
   "metadata": {},
   "outputs": [],
   "source": [
    "\n",
    "transaction_counts = cust.transaction\n",
    "promo_usage = cust.offer_completed\n",
    "age = cust.age\n",
    "\n",
    "# Scatter plot with color coding based on promo usage\n",
    "plt.figure(figsize=(10, 6))\n",
    "plt.scatter(transaction_counts, age, c=promo_usage, cmap='viridis', edgecolors='black')\n",
    "\n",
    "# Label axes and title\n",
    "plt.xlabel('Transaction Count')\n",
    "plt.ylabel('Age')\n",
    "plt.title('Relationship between Transaction Count, Promo Usage, and Total Spend')\n",
    "\n",
    "# Add colorbar\n",
    "sm = plt.cm.ScalarMappable(cmap='viridis', norm=plt.Normalize(min(promo_usage), max(promo_usage)))\n",
    "sm.set_array([])\n",
    "plt.colorbar(sm, label='Promo Usage')\n",
    "\n",
    "# Show plot\n",
    "plt.grid(True)\n",
    "plt.tight_layout()\n",
    "plt.show()"
   ]
  },
  {
   "cell_type": "markdown",
   "metadata": {},
   "source": [
    "This is really interesting. We see the higher promo usage, which in green to yellow color marks lies densely for transaction count roughly more than five and below 25 and the total income more than its 50th percentile to 75th percentile. People with higher income don't spend more than 20 transaction.\n",
    "\n",
    "Lets explore this further by transforming the graph into quadrants based on income and transaction count percentiles."
   ]
  },
  {
   "cell_type": "code",
   "execution_count": null,
   "metadata": {},
   "outputs": [],
   "source": [
    "#Calculate Percentiles:\n",
    "\n",
    "#calculate the 25th, 50th, and 75th percentiles for both income and transaction_counts:\n",
    "\n",
    "income_25th = income.quantile(.25)\n",
    "income_50th = income.quantile(.5)\n",
    "income_75th = income.quantile(.75)\n",
    "\n",
    "transaction_25th = np.percentile(transaction_counts, 25)\n",
    "transaction_50th = np.percentile(transaction_counts, 50)\n",
    "transaction_75th = np.percentile(transaction_counts, 75)\n",
    "transaction_100th = np.percentile(transaction_counts, 100)\n",
    "\n"
   ]
  },
  {
   "cell_type": "code",
   "execution_count": null,
   "metadata": {},
   "outputs": [],
   "source": [
    "#Create Quadrant Grid\n",
    "#create vertical and horizontal lines at the calculated percentiles, forming the quadrant grid\n",
    "plt.figure(figsize=(10, 6))\n",
    "plt.axvline(x=transaction_25th, color='gray', linestyle='--')\n",
    "plt.axvline(x=transaction_50th, color='gray', linestyle='--')\n",
    "plt.axvline(x=transaction_75th, color='gray', linestyle='--')\n",
    "# plt.axvline(x=transaction_100th, color='gray', linestyle='--')\n",
    "\n",
    "\n",
    "plt.axhline(y=income_25th, color='gray', linestyle='--')\n",
    "plt.axhline(y=income_50th, color='gray', linestyle='--')\n",
    "plt.axhline(y=income_75th, color='gray', linestyle='--')\n",
    "\n",
    "# Add colorbar\n",
    "sm = plt.cm.ScalarMappable(cmap='viridis', norm=plt.Normalize(min(promo_usage), max(promo_usage)))\n",
    "sm.set_array([])\n",
    "plt.colorbar(sm, label='Promo Usage')\n",
    "\n",
    "#Adjust Scatter Plot\n",
    "#Modify the scatter plot to use a marker that doesn't have a fill color, \n",
    "#allowing the quadrant grid to be visible\n",
    "plt.scatter(transaction_counts, income, c=promo_usage, cmap='viridis', edgecolors='black', marker='o', facecolors='none');\n"
   ]
  },
  {
   "cell_type": "code",
   "execution_count": null,
   "metadata": {},
   "outputs": [],
   "source": []
  },
  {
   "cell_type": "code",
   "execution_count": null,
   "metadata": {},
   "outputs": [],
   "source": []
  },
  {
   "cell_type": "code",
   "execution_count": null,
   "metadata": {},
   "outputs": [],
   "source": []
  },
  {
   "cell_type": "code",
   "execution_count": null,
   "metadata": {},
   "outputs": [],
   "source": [
    "def aggregate(x):\n",
    "    \"\"\"To find sum of the current element and all the previous elements and storing it in the current position.\n",
    "       This is to be done from start of the list to the end.\n",
    "       \n",
    "    Args:\n",
    "        x (list): List of integer values.\n",
    "        \n",
    "    Returns:\n",
    "        x (list): Function will be performed to every element from start to end. Last element will be removed \n",
    "        from the list before returning.\n",
    "    \n",
    "    \"\"\"\n",
    "    for i in range(1, len(x)):\n",
    "        x[i] = x[i] + x[i-1]\n",
    "    x.pop()\n",
    "    return x"
   ]
  },
  {
   "cell_type": "code",
   "execution_count": null,
   "metadata": {},
   "outputs": [],
   "source": [
    "newlist= [1,2,3,4,5]\n",
    "aggregate(newlist)"
   ]
  },
  {
   "cell_type": "code",
   "execution_count": null,
   "metadata": {},
   "outputs": [],
   "source": [
    "newlist.pop()"
   ]
  },
  {
   "cell_type": "code",
   "execution_count": null,
   "metadata": {},
   "outputs": [],
   "source": []
  }
 ],
 "metadata": {
  "kernelspec": {
   "display_name": "Python 3 (ipykernel)",
   "language": "python",
   "name": "python3"
  },
  "language_info": {
   "codemirror_mode": {
    "name": "ipython",
    "version": 3
   },
   "file_extension": ".py",
   "mimetype": "text/x-python",
   "name": "python",
   "nbconvert_exporter": "python",
   "pygments_lexer": "ipython3",
   "version": "3.12.3"
  },
  "toc": {
   "base_numbering": 1,
   "nav_menu": {},
   "number_sections": true,
   "sideBar": true,
   "skip_h1_title": false,
   "title_cell": "Table of Contents",
   "title_sidebar": "Contents",
   "toc_cell": false,
   "toc_position": {},
   "toc_section_display": true,
   "toc_window_display": true
  }
 },
 "nbformat": 4,
 "nbformat_minor": 4
}
